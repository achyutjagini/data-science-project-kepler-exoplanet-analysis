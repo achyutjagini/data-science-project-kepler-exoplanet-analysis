{
 "cells": [
  {
   "cell_type": "code",
   "execution_count": 9,
   "metadata": {},
   "outputs": [
    {
     "name": "stdout",
     "output_type": "stream",
     "text": [
      "mu:  43.81602841668751 , sigma: 3.6033554370102445\n"
     ]
    },
    {
     "data": {
      "text/plain": [
       "Ttest_1sampResult(statistic=-4.564556101593331, pvalue=5.080325086833945e-06)"
      ]
     },
     "execution_count": 9,
     "metadata": {},
     "output_type": "execute_result"
    }
   ],
   "source": [
    "import pandas as pd\n",
    "import seaborn as sns\n",
    "from scipy import stats as st\n",
    "data=pd.read_csv(\"cumulative-cleaned.csv\")\n",
    "points =data['declination']\n",
    "mu = points.mean()\n",
    "sigma = points.std(ddof=0)\n",
    "print(\"mu: \", mu, \", sigma:\", sigma)\n",
    "#Performing STATISTICAL TESTS\n",
    "#Performing one sample t -test(testing whether it is equal to poulation mean or not)\n",
    "data=data.loc[:,~data.columns.str.contains('^Unnamed')]\n",
    "st.ttest_1samp(data['declination'],44) #Ho:mu=4 H1:mu not equal to 4\n"
   ]
  },
  {
   "cell_type": "raw",
   "metadata": {},
   "source": []
  },
  {
   "cell_type": "code",
   "execution_count": 12,
   "metadata": {},
   "outputs": [
    {
     "data": {
      "text/plain": [
       "Ttest_indResult(statistic=-6.0078480021310945, pvalue=1.986711332306377e-09)"
      ]
     },
     "execution_count": 12,
     "metadata": {},
     "output_type": "execute_result"
    }
   ],
   "source": [
    "# performing two sample t-test,testing whether the mean in number of \n",
    "# To test if this is significant, we do a 2-sample t-test with scipy.stats.ttest_ind():\n",
    "plnt_confirmed= data[data['plnt_disposition'] == 'CONFIRMED']['orbital_period']\n",
    "plnt_fpositive= data[data['plnt_disposition'] == 'FALSE POSITIVE']['orbital_period']\n",
    "st.ttest_ind(plnt_confirmed,plnt_fpositive)   # Ho:mu(FALSE POSITIVE) not equal to mu(CONFIRMED)   H1:mu(FALSE POSITIVE) = mu(CONFIRMED)\n",
    "# so p=1.987e-09 which gives p < 0.05 hence null hypothesis is rejected\n"
   ]
  },
  {
   "cell_type": "code",
   "execution_count": 13,
   "metadata": {},
   "outputs": [
    {
     "name": "stdout",
     "output_type": "stream",
     "text": [
      "mu =  8124.301745058795 sigma =  168949.57357307704\n"
     ]
    }
   ],
   "source": [
    "in_flux = data['insolation_flux']\n",
    "mu = in_flux.mean()\n",
    "sigma = in_flux.std(ddof=0)\n",
    "print(\"mu = \",mu,\"sigma = \",sigma)\n",
    "\n"
   ]
  },
  {
   "cell_type": "code",
   "execution_count": 15,
   "metadata": {},
   "outputs": [
    {
     "name": "stdout",
     "output_type": "stream",
     "text": [
      "392.024\n"
     ]
    }
   ],
   "source": [
    "print(data['insolation_flux'].head().mean())\n"
   ]
  },
  {
   "cell_type": "code",
   "execution_count": 21,
   "metadata": {},
   "outputs": [
    {
     "name": "stdout",
     "output_type": "stream",
     "text": [
      "-0.10233762828280667\n"
     ]
    }
   ],
   "source": [
    "import numpy as np\n",
    "z_critical = 1.96 #alpha level of 0.05 and two-tailed test\n",
    "mean = 392.024\n",
    "n = 5\n",
    "standard_deviation = sigma/np.sqrt(n)\n",
    "z = (mean - mu)/standard_deviation    # Ho: sample mean = population mean  H1:sample mean not equal to population mean\n",
    "print(z) \n",
    "# z=-7.907 which gives z < 1.96 hence rejecting null hypotheses"
   ]
  },
  {
   "cell_type": "code",
   "execution_count": null,
   "metadata": {},
   "outputs": [],
   "source": []
  }
 ],
 "metadata": {
  "kernelspec": {
   "display_name": "Python 3",
   "language": "python",
   "name": "python3"
  },
  "language_info": {
   "codemirror_mode": {
    "name": "ipython",
    "version": 3
   },
   "file_extension": ".py",
   "mimetype": "text/x-python",
   "name": "python",
   "nbconvert_exporter": "python",
   "pygments_lexer": "ipython3",
   "version": "3.9.0"
  }
 },
 "nbformat": 4,
 "nbformat_minor": 4
}
