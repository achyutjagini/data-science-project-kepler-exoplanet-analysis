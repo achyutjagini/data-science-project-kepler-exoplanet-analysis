{
 "cells": [
  {
   "cell_type": "code",
   "execution_count": 14,
   "metadata": {},
   "outputs": [
    {
     "name": "stdout",
     "output_type": "stream",
     "text": [
      "Normalized dataset saved in 'cumulative-normalized.csv'\n"
     ]
    }
   ],
   "source": [
    "import pandas as pd\n",
    "import math\n",
    "\n",
    "df = pd.read_csv('cumulative-cleaned.csv')\n",
    "columns = df.columns[1:]\n",
    "col_dict = {}\n",
    "z_temporary_list = []\n",
    "z_dict = {}\n",
    "rows_dict = {}\n",
    "rows_temp_list = []\n",
    "for col in columns[4:]:\n",
    "    std = df.iloc[:7995][col].std()\n",
    "    var = df.iloc[:7995][col].var()\n",
    "    mean = df.iloc[:7995][col].mean()\n",
    "    col_dict[col]=[mean,std]\n",
    "for col in columns[0:4]:\n",
    "    for i in range(0,7994):\n",
    "        rows_temp_list.append(df.iloc[i][col])\n",
    "    rows_dict[col]=rows_temp_list\n",
    "    rows_temp_list = []\n",
    "for col in columns[4:]:\n",
    "    for i in range(0,7994):\n",
    "        x = df.loc[i][col]\n",
    "        mu=col_dict[col][0]\n",
    "        sigma=col_dict[col][1]\n",
    "        z = (x - mu) / sigma\n",
    "        z_temporary_list.append(abs(z))\n",
    "    z_dict[col]=z_temporary_list\n",
    "    z_temporary_list = []\n",
    "\n",
    "full_dict = {}\n",
    "for i in rows_dict:\n",
    "    full_dict[i]=rows_dict[i]\n",
    "for i in z_dict:\n",
    "    full_dict[i]=z_dict[i]\n",
    "kepler_normd=pd.DataFrame(full_dict)\n",
    "kepler_normd.to_csv('cumulative-normalized.csv')\n",
    "print(\"Normalized dataset saved in 'cumulative-normalized.csv'\")"
   ]
  },
  {
   "cell_type": "code",
   "execution_count": null,
   "metadata": {},
   "outputs": [],
   "source": []
  }
 ],
 "metadata": {
  "kernelspec": {
   "display_name": "Python 3",
   "language": "python",
   "name": "python3"
  },
  "language_info": {
   "codemirror_mode": {
    "name": "ipython",
    "version": 3
   },
   "file_extension": ".py",
   "mimetype": "text/x-python",
   "name": "python",
   "nbconvert_exporter": "python",
   "pygments_lexer": "ipython3",
   "version": "3.9.0"
  }
 },
 "nbformat": 4,
 "nbformat_minor": 4
}
